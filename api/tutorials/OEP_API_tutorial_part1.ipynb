{
 "cells": [
  {
   "cell_type": "markdown",
   "metadata": {},
   "source": [
    "<img src=\"http://193.175.187.164/static/OEP_logo_2_no_text.svg\" alt=\"OpenEnergy Platform\" height=\"100\" width=\"100\"  align=\"left\"/>\n",
    "<img src=\"http://www.znes-flensburg.de/sites/default/files/Logo_ZNES_breit_farbig_1.png\" alt=\"ZNES Flensburg\" height=\"100\" width=\"300\"  align=\"centre\"/>\n",
    "<img src=\"http://reiner-lemoine-institut.de//wp-content/uploads/2015/09/rlilogo.png\" alt=\"RLI\" height=\"100\" width=\"100\" align=\"right\"/>\n",
    "\n",
    "# OpenEnergy Platform\n"
   ]
  },
  {
   "cell_type": "code",
   "execution_count": null,
   "metadata": {},
   "outputs": [],
   "source": [
    "__copyright__ = \"ZNES\"\n",
    "__license__   = \"GNU Affero General Public License Version 3 (AGPL-3.0)\"\n",
    "__url__       = \"https://github.com/openego/data_processing/blob/master/LICENSE\"\n",
    "__author__    = \"wolfbunke, Ludee\""
   ]
  },
  {
   "cell_type": "markdown",
   "metadata": {},
   "source": [
    "# Tutorial - How to work with the OpenEnergy Platform (OEP)\n",
    "\n",
    "<div class=\"alert alert-block alert-danger\">\n",
    "This is an important information!\n",
    "</div>\n",
    "<div class=\"alert alert-block alert-info\">\n",
    "This is an information!\n",
    "</div>\n",
    "<div class=\"alert alert-block alert-success\">\n",
    "This is your task!\n",
    "</div>\n",
    "\n",
    "This tutorial gives you an overview of the [**OpenEnergy Platform**](http://oep.iks.cs.ovgu.de/) and how you can work with the **REST-full-HTTP** API in Python. <br>\n",
    "The full API documentaion can be found on [ReadtheDocs.io](http://oep-data-interface.readthedocs.io/en/latest/api/how_to.html#authenticate \"OpenEnergyPlatform’s documentation\").\n",
    "\n",
    "\n",
    "## Part I\n",
    "\n",
    "0 Get started - Sign-in and get your own token <br>\n",
    "0 Setup token <br>\n",
    "1 Create a table <br>\n",
    "2 Delete a table <br>\n",
    "3 Query table columns <br>\n",
    "4 Insert Data into a table <br>\n",
    "5 Insert data into a specific row <br>\n",
    "6 Alter data in a table <br>\n",
    "\n",
    "## Part II\n",
    "\n",
    "\n",
    "0 Setup token  <br>\n",
    "1 Select data from a table  <br>\n",
    "2 Include filters  <br>\n",
    "3 More Options <br>\n",
    "\n",
    "\n",
    "## Part III\n",
    "\n",
    "0 Setup token  <br>\n",
    "1 Select data  <br>\n",
    "2 Make a pandas dataframe  <br>\n",
    "3 Plot a dataframe (geo plot) <br>\n",
    "\n",
    "## Links and further information\n",
    "\n",
    "How to work with Python and Jupyter Notebooks <br>\n",
    "[OPSD wiki](https://github.com/Open-Power-System-Data/common/wiki) <br>\n",
    "[nbviewer example](http://nbviewer.jupyter.org/github/ocefpaf/folium_notebooks/blob/master/test_png_mpld3_vega_popup.ipynb)\n",
    "\n",
    "\n",
    "#### Overview of Packages:\n",
    "http://geopandas.org/install.html#installing-geopandas  <br>\n",
    "http://docs.python-requests.org/en/master/"
   ]
  },
  {
   "cell_type": "markdown",
   "metadata": {},
   "source": [
    "# Part I\n",
    " \n",
    "## 0. Get started - Sign-in and get your own token\n",
    "\n",
    "The registration has to be done in the [**Openmod Wiki**](https://wiki.openmod-initiative.org/wiki/Special:RequestAccount). <br>\n",
    "Login to the [**OpenEnergy Platform**](http://oep.iks.cs.ovgu.de/login/?next=/).\n",
    "\n",
    "\n",
    "#### 1.  Click on the login button and sign in\n",
    "\n",
    "<img src=\"images/login.png\"  alt=\"OpenEnergy Platform login\" height=\"100\" width=\"100\" align=\"left\"/>  <br><br>\n",
    "\n",
    "\n",
    "#### 2.  Copy your token\n",
    "\n",
    "<img src=\"images/token.png\"  alt=\"OpenEnergy Platform Token\" height=\"400\" width=\"500\" align=\"left\" /> "
   ]
  },
  {
   "cell_type": "markdown",
   "metadata": {},
   "source": [
    "## 0. Setup token\n",
    "\n",
    "<div class=\"alert alert-block alert-danger\">\n",
    "Do not push your token to GitHub!\n",
    "</div>"
   ]
  },
  {
   "cell_type": "code",
   "execution_count": 2,
   "metadata": {},
   "outputs": [],
   "source": [
    "import requests\n",
    "import pandas as pd\n",
    "from IPython.core.display import HTML\n",
    "# \n",
    "# \n",
    "# oedb\n",
    "oep_url= 'http://oep.iks.cs.ovgu.de/'\n",
    "\n",
    "# token\n",
    "your_token = ''"
   ]
  },
  {
   "cell_type": "markdown",
   "metadata": {},
   "source": [
    "## 0.1 About the Database and used Packages\n",
    "Data are stored and ordered by topic under the \"schema\" tab:\n",
    "https://oep.iks.cs.ovgu.de/dataedit/schemas  </div> \n",
    "\n",
    "The data tables can be accessed by calling them via http request. </div> \n",
    "\n",
    "\n",
    "The \"request\" package will handle the HTTP communication with the OEP database. It sends requests that insert (put, post, delete) or read (get) data in/from the databank. For either request the URL of a requested table has to be included. \n",
    "For all \"put\", \"post\" and \"delete\" requests one has to include the authentification token as a header, like in the \"delete table \" example </div> \n",
    "\n"
   ]
  },
  {
   "cell_type": "code",
   "execution_count": null,
   "metadata": {},
   "outputs": [],
   "source": [
    "requests.delete(oep_url+'/api/v0/schema/'+schema+'/tables/'+table, headers=\n",
    "                {'Authorization': 'Token %s'%your_token} )"
   ]
  },
  {
   "cell_type": "markdown",
   "metadata": {},
   "source": [
    "About the table structure:  </div>\n",
    "\n",
    "The tables are organized in rows and columns that can be adressed via: </div>\n",
    "\n",
    "\n",
    "\n"
   ]
  },
  {
   "cell_type": "code",
   "execution_count": null,
   "metadata": {},
   "outputs": [],
   "source": [
    "requests.post(oep_url+'/api/v0/schema/'+schema+'/tables/'+table+'/rows/\n",
    "# and \n",
    "              \n",
    "requests.get(oep_url+'/api/v0/schema/'+schema+'/tables/'+table+'/columns')"
   ]
  },
  {
   "cell_type": "markdown",
   "metadata": {},
   "source": [
    "In the following tutorial the schema will be <div>\n",
    "'model_draft'<div>\n",
    "and the table <div>\n",
    "'example_api_table_test_ludwig'. <div>\n",
    "    \n",
    "Inserted data must have the structure of a dictionary / json with a key for every column of the table and the respective value like in: "
   ]
  },
  {
   "cell_type": "code",
   "execution_count": null,
   "metadata": {},
   "outputs": [],
   "source": [
    "data = {\"query\": \n",
    "        {\"name\": \"Kraftwerk 1\", \n",
    "         \"geom\": \"0101000020E610000046B6F3FDD4082B403524EEB1F4094A40\"}}"
   ]
  },
  {
   "cell_type": "markdown",
   "metadata": {},
   "source": [
    "## 1. Create a table / Table Architecure \n",
    "\n",
    "\n",
    "\n",
    "You installed all Python packages? Let's create our first database table:\n",
    "\n",
    "<div class=\"alert alert-block alert-info\">\n",
    "The API is enabled for the following schmemas only: **'model_draft'** & **'sandbox'**\n",
    "</div>\n",
    "<div class=\"alert alert-block alert-info\">\n",
    "A table must have a column **'id'** of type **'bigserial'**!\n",
    "</div>\n",
    "<div class=\"alert alert-block alert-success\">\n",
    "Change the name of the table!\n",
    "</div>"
   ]
  },
  {
   "cell_type": "code",
   "execution_count": null,
   "metadata": {},
   "outputs": [],
   "source": [
    "# create table\n",
    "schema = 'model_draft'\n",
    "table = 'example_api_table_test_ludwig'\n",
    "\n",
    "data = { \"query\": \n",
    "        { \"columns\": [ { \"name\":\"id\", \"data_type\": \"bigserial\", \"is_nullable\": \"NO\" },\n",
    "                      { \"name\":\"name\", \"data_type\": \"varchar\", \"character_maximum_length\": \"50\" },\n",
    "                      { \"name\":\"type\", \"data_type\": \"varchar\", \"character_maximum_length\": \"15\" },\n",
    "                      { \"name\":\"capacity\", \"data_type\": \"decimal\", \"character_maximum_length\": \"15\" },\n",
    "                      { \"name\":\"geom\", \"data_type\": \"geometry(point)\" } ],\n",
    "         \"constraints\": [ { \"constraint_type\": \"PRIMARY KEY\", \"constraint_parameter\": \"id\" } ] \n",
    "        } }\n",
    "\n",
    "requests.put(oep_url+'/api/v0/schema/'+schema+'/tables/'+table+'/',\n",
    "             json=data, headers={'Authorization': 'Token %s'%your_token} )\n",
    "\n"
   ]
  },
  {
   "cell_type": "markdown",
   "metadata": {},
   "source": [
    "<div class=\"alert alert-block alert-info\">\n",
    "**Response [201]** succesfully created table! <br>\n",
    "**Response [500]** table already exists!\n",
    "</div>"
   ]
  },
  {
   "cell_type": "code",
   "execution_count": 3,
   "metadata": {},
   "outputs": [
    {
     "data": {
      "text/plain": [
       "<Response [200]>"
      ]
     },
     "execution_count": 3,
     "metadata": {},
     "output_type": "execute_result"
    }
   ],
   "source": [
    "# check if exists\n",
    "schema = 'model_draft'\n",
    "table = 'example_api_table_test_ludwig'\n",
    "\n",
    "requests.get(oep_url+'/api/v0/schema/'+schema+'/tables/'+table)"
   ]
  },
  {
   "cell_type": "markdown",
   "metadata": {},
   "source": [
    "<div class=\"alert alert-block alert-info\">\n",
    "**Response [200]** table exists! <br>\n",
    "**Response [404]** table doesn't exist!\n",
    "</div>"
   ]
  },
  {
   "cell_type": "markdown",
   "metadata": {},
   "source": [
    "Table can be seen online:\n",
    "http://oep.iks.cs.ovgu.de/dataedit/view/model_draft/example_api_table_test_ludwig"
   ]
  },
  {
   "cell_type": "markdown",
   "metadata": {},
   "source": [
    "## 2. Delete a table"
   ]
  },
  {
   "cell_type": "code",
   "execution_count": null,
   "metadata": {},
   "outputs": [],
   "source": [
    "# Delete your table\n",
    "schema = 'model_draft'\n",
    "table = 'example_api_table_test_ludwig'\n",
    "\n",
    "requests.delete(oep_url+'/api/v0/schema/'+schema+'/tables/'+table, headers={'Authorization': 'Token %s'%your_token} )"
   ]
  },
  {
   "cell_type": "markdown",
   "metadata": {},
   "source": [
    "<div class=\"alert alert-block alert-info\">\n",
    "**Response [200]** succesfully deleted table! <br>\n",
    "**Response [404]** table doesn't exist and cannot be deleted!\n",
    "</div>"
   ]
  },
  {
   "cell_type": "code",
   "execution_count": null,
   "metadata": {},
   "outputs": [],
   "source": [
    "# check if exists\n",
    "schema = 'model_draft'\n",
    "table = 'example_api_table_test_ludwig'\n",
    "\n",
    "requests.get(oep_url+'/api/v0/schema/'+schema+'/tables/'+table)"
   ]
  },
  {
   "cell_type": "markdown",
   "metadata": {},
   "source": [
    "<div class=\"alert alert-block alert-info\">\n",
    "**Response [404]** table does not exists!\n",
    "</div>"
   ]
  },
  {
   "cell_type": "markdown",
   "metadata": {},
   "source": [
    "<div class=\"alert alert-block alert-success\">\n",
    "Now create the table again!\n",
    "</div>"
   ]
  },
  {
   "cell_type": "markdown",
   "metadata": {},
   "source": [
    "## 3. Query table columns"
   ]
  },
  {
   "cell_type": "code",
   "execution_count": 4,
   "metadata": {},
   "outputs": [
    {
     "data": {
      "text/plain": [
       "{'character_maximum_length': None,\n",
       " 'character_octet_length': None,\n",
       " 'column_default': None,\n",
       " 'data_type': 'numeric',\n",
       " 'datetime_precision': None,\n",
       " 'dtd_identifier': '4',\n",
       " 'interval_precision': None,\n",
       " 'interval_type': None,\n",
       " 'is_nullable': True,\n",
       " 'is_updatable': True,\n",
       " 'maximum_cardinality': None,\n",
       " 'numeric_precision': 15,\n",
       " 'numeric_precision_radix': 10,\n",
       " 'numeric_scale': 0,\n",
       " 'ordinal_position': 4}"
      ]
     },
     "execution_count": 4,
     "metadata": {},
     "output_type": "execute_result"
    }
   ],
   "source": [
    "# table columns\n",
    "schema = 'model_draft'\n",
    "table = 'example_api_table_test_ludwig'\n",
    "\n",
    "result = requests.get(oep_url+'/api/v0/schema/'+schema+'/tables/'+table+'/columns')\n",
    "json_result = result.json()\n",
    "json_result['capacity']\n",
    "\n",
    "# all:\n",
    "#json_result"
   ]
  },
  {
   "cell_type": "markdown",
   "metadata": {},
   "source": [
    "## 4. Insert Data into a table\n",
    "\n",
    "Now we insert a power plant with name and a point geometry"
   ]
  },
  {
   "cell_type": "code",
   "execution_count": null,
   "metadata": {},
   "outputs": [],
   "source": [
    "# insert data\n",
    "schema = 'model_draft'\n",
    "table = 'example_api_table_test_ludwig'\n",
    "\n",
    "data = {\"query\": {\"name\": \"Kraftwerk 1\", \"geom\": \"0101000020E610000046B6F3FDD4082B403524EEB1F4094A40\"}}\n",
    "\n",
    "result = requests.post(oep_url+'/api/v0/schema/'+schema+'/tables/'+table+'/rows/new', \n",
    "                       json=data, headers={'Authorization': 'Token %s'%your_token} )\n",
    "result.status_code"
   ]
  },
  {
   "cell_type": "markdown",
   "metadata": {},
   "source": [
    "<div class=\"alert alert-block alert-info\">\n",
    "**201** succesfully inserted data!\n",
    "</div>"
   ]
  },
  {
   "cell_type": "code",
   "execution_count": null,
   "metadata": {},
   "outputs": [],
   "source": [
    "# show the id of the new row\n",
    "json_result = result.json()\n",
    "json_result['data']"
   ]
  },
  {
   "cell_type": "markdown",
   "metadata": {},
   "source": [
    "<div class=\"alert alert-block alert-info\">\n",
    "It is row number **[1]**!\n",
    "</div>"
   ]
  },
  {
   "cell_type": "code",
   "execution_count": 6,
   "metadata": {},
   "outputs": [
    {
     "data": {
      "text/plain": [
       "401"
      ]
     },
     "execution_count": 6,
     "metadata": {},
     "output_type": "execute_result"
    }
   ],
   "source": [
    "# insert data\n",
    "schema = 'model_draft'\n",
    "table = 'example_api_table_test_ludwig'\n",
    "\n",
    "data = {\"query\": [{\"name\": \"Kraftwerk 2\", \"type\": \"pv\", \"capacity\": \"2\", \"geom\": \"0101000020E610000046B6F3FDD4082B403524EEB1F4094A40\"},\n",
    "                 {\"name\": \"Kraftwerk 3\", \"type\": \"pv\", \"capacity\": \"4.6\", \"geom\": \"0101000020E610000046B6F3FDD4082B403524EEB1F4094A40\"}]}\n",
    "\n",
    "result = requests.post(oep_url+'/api/v0/schema/'+schema+'/tables/'+table+'/rows/new', \n",
    "                       json=data, headers={'Authorization': 'Token %s'%your_token} )\n",
    "result.status_code"
   ]
  },
  {
   "cell_type": "markdown",
   "metadata": {},
   "source": [
    "If you want to insert multiple lines of data like two power plants in this case, you can insert a list of dictionaries with as many entries as the table has columns. "
   ]
  },
  {
   "cell_type": "markdown",
   "metadata": {},
   "source": [
    "<div class=\"alert alert-block alert-info\">\n",
    "**201** succesfully inserted data!\n",
    "</div>"
   ]
  },
  {
   "cell_type": "code",
   "execution_count": 5,
   "metadata": {},
   "outputs": [
    {
     "ename": "KeyError",
     "evalue": "'data'",
     "output_type": "error",
     "traceback": [
      "\u001b[1;31m---------------------------------------------------------------------------\u001b[0m",
      "\u001b[1;31mKeyError\u001b[0m                                  Traceback (most recent call last)",
      "\u001b[1;32m<ipython-input-5-3cd647d3ed2d>\u001b[0m in \u001b[0;36m<module>\u001b[1;34m()\u001b[0m\n\u001b[0;32m      1\u001b[0m \u001b[1;31m# show the id of the new rows\u001b[0m\u001b[1;33m\u001b[0m\u001b[1;33m\u001b[0m\u001b[0m\n\u001b[0;32m      2\u001b[0m \u001b[0mjson_result\u001b[0m \u001b[1;33m=\u001b[0m \u001b[0mresult\u001b[0m\u001b[1;33m.\u001b[0m\u001b[0mjson\u001b[0m\u001b[1;33m(\u001b[0m\u001b[1;33m)\u001b[0m\u001b[1;33m\u001b[0m\u001b[0m\n\u001b[1;32m----> 3\u001b[1;33m \u001b[0mjson_result\u001b[0m\u001b[1;33m[\u001b[0m\u001b[1;34m'data'\u001b[0m\u001b[1;33m]\u001b[0m\u001b[1;33m\u001b[0m\u001b[0m\n\u001b[0m",
      "\u001b[1;31mKeyError\u001b[0m: 'data'"
     ]
    }
   ],
   "source": [
    "# show the id of the new rows\n",
    "json_result = result.json()\n",
    "json_result['data']"
   ]
  },
  {
   "cell_type": "markdown",
   "metadata": {},
   "source": [
    "<div class=\"alert alert-block alert-info\">\n",
    "It is row number **[2]** and **[3]**!\n",
    "</div>"
   ]
  },
  {
   "cell_type": "markdown",
   "metadata": {},
   "source": [
    "## 5. Insert data into a specific row"
   ]
  },
  {
   "cell_type": "code",
   "execution_count": null,
   "metadata": {},
   "outputs": [],
   "source": [
    "# insert data to row 11\n",
    "schema = 'model_draft'\n",
    "table = 'example_api_table_test_ludwig'\n",
    "rownumber = '11'\n",
    "\n",
    "data = {\"query\": {\"name\": \"Kraftwerk 11\", \"type\": \"wind\", \"capacity\": \"3500\", \"geom\": \"0101000020E610000046B6F3FDD4082B403524EEB1F4094A40\"}}\n",
    "\n",
    "result = requests.put(oep_url+'/api/v0/schema/'+schema+'/tables/'+table+'/rows/'+rownumber, \n",
    "                       json=data, headers={'Authorization': 'Token %s'%your_token} )\n",
    "result.status_code"
   ]
  },
  {
   "cell_type": "markdown",
   "metadata": {},
   "source": [
    "<div class=\"alert alert-block alert-info\">\n",
    "**201** succesfully inserted data! <br>\n",
    "**200** row already taken!\n",
    "</div>"
   ]
  },
  {
   "cell_type": "markdown",
   "metadata": {},
   "source": [
    "<div class=\"alert alert-block alert-success\">\n",
    "Insert some powerplants!\n",
    "</div>"
   ]
  },
  {
   "cell_type": "code",
   "execution_count": null,
   "metadata": {},
   "outputs": [],
   "source": [
    "# insert some data\n",
    "\n",
    "\n"
   ]
  },
  {
   "cell_type": "markdown",
   "metadata": {},
   "source": [
    "## 6. Alter data in a table"
   ]
  },
  {
   "cell_type": "code",
   "execution_count": null,
   "metadata": {},
   "outputs": [],
   "source": [
    "# alter data\n",
    "schema = 'model_draft'\n",
    "table = 'example_api_table_test_ludwig'\n",
    "\n",
    "result = requests.get(oep_url+'/api/v0/schema/'+schema+'/tables/'+table+'/rows/') # Load the names via GET\n",
    "result.status_code"
   ]
  },
  {
   "cell_type": "markdown",
   "metadata": {},
   "source": [
    "<div class=\"alert alert-block alert-info\">\n",
    "**200** table exists!\n",
    "</div>"
   ]
  },
  {
   "cell_type": "code",
   "execution_count": null,
   "metadata": {},
   "outputs": [],
   "source": [
    "row = \"1\"\n",
    "data = {\"query\": {\"capacity\": \"2\", \"type\": \"pv\"}}\n",
    "\n",
    "result = requests.post(oep_url+'/api/v0/schema/'+schema+'/tables/'+table+'/rows/{id}'.format(id=row), json=data, headers={'Authorization': 'Token %s'%your_token})\n",
    "result.status_code"
   ]
  },
  {
   "cell_type": "markdown",
   "metadata": {},
   "source": [
    "<div class=\"alert alert-block alert-info\">\n",
    "**200** succesfully changed data!\n",
    "</div>"
   ]
  }
 ],
 "metadata": {
  "kernelspec": {
   "display_name": "Python 3",
   "language": "python",
   "name": "python3"
  },
  "language_info": {
   "codemirror_mode": {
    "name": "ipython",
    "version": 3
   },
   "file_extension": ".py",
   "mimetype": "text/x-python",
   "name": "python",
   "nbconvert_exporter": "python",
   "pygments_lexer": "ipython3",
   "version": "3.5.4"
  }
 },
 "nbformat": 4,
 "nbformat_minor": 1
}
